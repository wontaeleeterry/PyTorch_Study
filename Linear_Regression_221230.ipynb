{
 "cells": [
  {
   "cell_type": "code",
   "execution_count": null,
   "id": "f11178f4",
   "metadata": {},
   "outputs": [],
   "source": [
    "# Simple Linear regression\n",
    "# Prediction usiong PyTorch\n",
    "# : Class Linear\n",
    "# : Build Custom Modules using nn.module"
   ]
  },
  {
   "cell_type": "markdown",
   "id": "530531b1",
   "metadata": {},
   "source": [
    "# the Method Forward"
   ]
  },
  {
   "cell_type": "code",
   "execution_count": 2,
   "id": "4afc49ba",
   "metadata": {},
   "outputs": [],
   "source": [
    "import torch\n",
    "\n",
    "w=torch.tensor(2., requires_grad=True)\n",
    "b=torch.tensor(-1., requires_grad=True)\n",
    "\n",
    "def forward(x):\n",
    "    y=b+w*x\n",
    "    return y\n",
    "\n",
    "x=torch.tensor([1.])\n",
    "\n",
    "yhat=forward(x)"
   ]
  },
  {
   "cell_type": "code",
   "execution_count": 3,
   "id": "d6183f18",
   "metadata": {},
   "outputs": [
    {
     "data": {
      "text/plain": [
       "tensor([1.], grad_fn=<AddBackward0>)"
      ]
     },
     "execution_count": 3,
     "metadata": {},
     "output_type": "execute_result"
    }
   ],
   "source": [
    "yhat"
   ]
  },
  {
   "cell_type": "code",
   "execution_count": 14,
   "id": "c92e4b70",
   "metadata": {},
   "outputs": [
    {
     "data": {
      "text/plain": [
       "tensor([[1.],\n",
       "        [3.]], grad_fn=<AddBackward0>)"
      ]
     },
     "execution_count": 14,
     "metadata": {},
     "output_type": "execute_result"
    }
   ],
   "source": [
    "# 2개 동시 입력\n",
    "\n",
    "x=torch.tensor([[1.], [2.]])  # 대괄호 : 리스트안에 리스트 주의\n",
    "\n",
    "yhat=forward(x)\n",
    "yhat"
   ]
  },
  {
   "cell_type": "code",
   "execution_count": 23,
   "id": "4efd2a91",
   "metadata": {},
   "outputs": [
    {
     "name": "stdout",
     "output_type": "stream",
     "text": [
      "[Parameter containing:\n",
      "tensor([[0.5153]], requires_grad=True), Parameter containing:\n",
      "tensor([-0.4414], requires_grad=True)]\n"
     ]
    },
    {
     "data": {
      "text/plain": [
       "tensor([-0.4414], grad_fn=<AddBackward0>)"
      ]
     },
     "execution_count": 23,
     "metadata": {},
     "output_type": "execute_result"
    }
   ],
   "source": [
    "# Linear 컨스트럭터\n",
    "\n",
    "from torch.nn import Linear\n",
    "\n",
    "torch.manual_seed(1)  # 항상 결과를 똑같게 만들기 위하여\n",
    "\n",
    "model=Linear(in_features=1, out_features=1)   # 한 개의 입력과 한 개의 출력을 갖는 임의의 선형 모델\n",
    "print(list(model.parameters()))   # 랜덤으로 구성된 모델의 파라미터를 출력하여 확인\n",
    "\n",
    "x=torch.tensor([0.0])\n",
    "yhat=model(x)\n",
    "yhat"
   ]
  },
  {
   "cell_type": "code",
   "execution_count": 24,
   "id": "97212ff5",
   "metadata": {},
   "outputs": [
    {
     "data": {
      "text/plain": [
       "tensor([[0.0739],\n",
       "        [0.5891]], grad_fn=<AddmmBackward0>)"
      ]
     },
     "execution_count": 24,
     "metadata": {},
     "output_type": "execute_result"
    }
   ],
   "source": [
    "# 여러개의 여러개의 단일 입력을 동시에 가능\n",
    "\n",
    "x=torch.tensor([[1.0], [2.0]])\n",
    "yhat=model(x)\n",
    "yhat"
   ]
  },
  {
   "cell_type": "markdown",
   "id": "d68051f1",
   "metadata": {},
   "source": [
    "# Custom Module"
   ]
  },
  {
   "cell_type": "code",
   "execution_count": 25,
   "id": "62bb2021",
   "metadata": {},
   "outputs": [],
   "source": [
    "import torch.nn as nn\n",
    "\n",
    "class LR(nn.Module):\n",
    "    def __init__(self, in_size, output_size):\n",
    "        super(LR, self).__init__()\n",
    "        self.linear=nn.Linear(in_size, output_size)\n",
    "        \n",
    "    def forward(self, x):\n",
    "        out=self.linear(x)\n",
    "        return out"
   ]
  },
  {
   "cell_type": "code",
   "execution_count": 28,
   "id": "427d1974",
   "metadata": {},
   "outputs": [
    {
     "name": "stdout",
     "output_type": "stream",
     "text": [
      "[Parameter containing:\n",
      "tensor([[0.5153]], requires_grad=True), Parameter containing:\n",
      "tensor([-0.4414], requires_grad=True)]\n"
     ]
    }
   ],
   "source": [
    "model=LR(1,1)   # size of model\n",
    "\n",
    "model.state_dict()['linear.weight'].data[0]=torch.tensor([0.5153])\n",
    "model.state_dict()['linear.bias'].data[0]=torch.tensor([-0.4414])\n",
    "\n",
    "print(list(model.parameters()))"
   ]
  },
  {
   "cell_type": "code",
   "execution_count": 30,
   "id": "e599089b",
   "metadata": {},
   "outputs": [
    {
     "data": {
      "text/plain": [
       "tensor([0.0739], grad_fn=<AddBackward0>)"
      ]
     },
     "execution_count": 30,
     "metadata": {},
     "output_type": "execute_result"
    }
   ],
   "source": [
    "x=torch.tensor([1.0])\n",
    "yhat=model(x)\n",
    "yhat"
   ]
  },
  {
   "cell_type": "code",
   "execution_count": 31,
   "id": "344f2927",
   "metadata": {},
   "outputs": [
    {
     "data": {
      "text/plain": [
       "tensor([[0.0739],\n",
       "        [0.5892]], grad_fn=<AddmmBackward0>)"
      ]
     },
     "execution_count": 31,
     "metadata": {},
     "output_type": "execute_result"
    }
   ],
   "source": [
    "# multiful prediction도 가능\n",
    "\n",
    "x=torch.tensor([[1.0],[2.0]])\n",
    "yhat=model(x)\n",
    "yhat"
   ]
  },
  {
   "cell_type": "code",
   "execution_count": 32,
   "id": "c3d39468",
   "metadata": {},
   "outputs": [
    {
     "name": "stdout",
     "output_type": "stream",
     "text": [
      "OrderedDict([('linear.weight', tensor([[0.5153]])), ('linear.bias', tensor([-0.4414]))])\n",
      "odict_keys(['linear.weight', 'linear.bias'])\n",
      "odict_values([tensor([[0.5153]]), tensor([-0.4414])])\n"
     ]
    }
   ],
   "source": [
    "print(model.state_dict())\n",
    "print(model.state_dict().keys())\n",
    "print(model.state_dict().values())"
   ]
  },
  {
   "cell_type": "code",
   "execution_count": 33,
   "id": "58d12f91",
   "metadata": {},
   "outputs": [
    {
     "name": "stdout",
     "output_type": "stream",
     "text": [
      "<generator object Module.parameters at 0x14aaba350>\n"
     ]
    }
   ],
   "source": [
    "print(model.parameters())"
   ]
  },
  {
   "cell_type": "markdown",
   "id": "e3535619",
   "metadata": {},
   "source": [
    "# Gradient Descent"
   ]
  },
  {
   "cell_type": "code",
   "execution_count": null,
   "id": "90acc071",
   "metadata": {},
   "outputs": [],
   "source": [
    "# Gradient Descent\n",
    "# Learning Rate 문제\n",
    "# Gradient Descent 종료 시점"
   ]
  },
  {
   "cell_type": "code",
   "execution_count": null,
   "id": "df836598",
   "metadata": {},
   "outputs": [],
   "source": [
    "# Cost or Average Loss"
   ]
  },
  {
   "cell_type": "markdown",
   "id": "087df95a",
   "metadata": {},
   "source": [
    "## Simple Linear Regression"
   ]
  },
  {
   "cell_type": "code",
   "execution_count": 48,
   "id": "31ae3edb",
   "metadata": {},
   "outputs": [],
   "source": [
    "import torch\n",
    "\n",
    "w = torch.tensor(-10.0, requires_grad=True)\n",
    "X = torch.arange(-3, 3, 0.1).view(-1, 1)      # 텐서 생성 후 1열로 변경\n",
    "f = -3*X"
   ]
  },
  {
   "cell_type": "code",
   "execution_count": 49,
   "id": "e6d920d4",
   "metadata": {},
   "outputs": [
    {
     "data": {
      "image/png": "[encoded data removed]",
      "text/plain": [
       "<Figure size 640x480 with 1 Axes>"
      ]
     },
     "metadata": {},
     "output_type": "display_data"
    }
   ],
   "source": [
    "import matplotlib.pyplot as plt\n",
    "plt.plot(X.numpy(), f.numpy())\n",
    "plt.show()"
   ]
  },
  {
   "cell_type": "code",
   "execution_count": 50,
   "id": "2a4e2519",
   "metadata": {},
   "outputs": [
    {
     "data": {
      "image/png": "[encoded data removed]",
      "text/plain": [
       "<Figure size 640x480 with 1 Axes>"
      ]
     },
     "metadata": {},
     "output_type": "display_data"
    }
   ],
   "source": [
    "Y = f+0.1*torch.randn(X.size())\n",
    "plt.plot(X.numpy(), Y.numpy(), 'ro')\n",
    "plt.show()"
   ]
  },
  {
   "cell_type": "code",
   "execution_count": 51,
   "id": "ba86efe4",
   "metadata": {},
   "outputs": [],
   "source": [
    "def forward(x):\n",
    "    return w*x            # 초기값 또는 갱신되는 w값(기울기)을 적용하여 전진 계산\n",
    "\n",
    "def criterion(yhat, y):             # 정답과 갱신된 w값을 이용한 결과 비교 : 성능 평가\n",
    "    return torch.mean((yhat-y)**2)"
   ]
  },
  {
   "cell_type": "code",
   "execution_count": 64,
   "id": "63c6b738",
   "metadata": {},
   "outputs": [],
   "source": [
    "lr = 0.1    # learning rate : 만일 너무 큰 값을 적용 한다면 / 작은 값을 적용한다면\n",
    "COST = []\n",
    "\n",
    "for epoch in range(4):\n",
    "    Yhat = forward(X)\n",
    "    loss = criterion(Yhat, Y)   # 난수가 포함된 Y가 정답이고, w값이 갱신되면서 구해지는 Yhat 비교\n",
    "    \n",
    "    loss.backward()\n",
    "    \n",
    "    w.data = w.data - lr*w.grad.data\n",
    "    w.grad.data.zero_()\n",
    "    \n",
    "    COST.append(loss.item())    # epoch별 loss를 계산하여 갱신"
   ]
  },
  {
   "cell_type": "code",
   "execution_count": 65,
   "id": "963ccf2a",
   "metadata": {},
   "outputs": [
    {
     "data": {
      "image/png": "[encoded data removed]",
      "text/plain": [
       "<Figure size 640x480 with 1 Axes>"
      ]
     },
     "metadata": {},
     "output_type": "display_data"
    }
   ],
   "source": [
    "plt.plot(range(4), COST)\n",
    "plt.show()"
   ]
  },
  {
   "cell_type": "code",
   "execution_count": 63,
   "id": "6897c12c",
   "metadata": {},
   "outputs": [
    {
     "data": {
      "text/plain": [
       "tensor(-3.0067, requires_grad=True)"
      ]
     },
     "execution_count": 63,
     "metadata": {},
     "output_type": "execute_result"
    }
   ],
   "source": [
    "w"
   ]
  },
  {
   "cell_type": "markdown",
   "id": "6e8cb274",
   "metadata": {},
   "source": [
    "## Linear Regression Training Slope + Bias"
   ]
  },
  {
   "cell_type": "code",
   "execution_count": 69,
   "id": "802abcc2",
   "metadata": {},
   "outputs": [
    {
     "data": {
      "image/png": "[encoded data removed]",
      "text/plain": [
       "<Figure size 640x480 with 1 Axes>"
      ]
     },
     "metadata": {},
     "output_type": "display_data"
    }
   ],
   "source": [
    "import torch\n",
    "\n",
    "w = torch.tensor(-10.0, requires_grad=True)\n",
    "b = torch.tensor(-3.0, requires_grad=True)\n",
    "\n",
    "X = torch.arange(-3, 3, 0.1).view(-1, 1)      # 텐서 생성 후 1열로 변경\n",
    "\n",
    "f = -3*X-6\n",
    "Y = f+0.1*torch.randn(X.size())\n",
    "\n",
    "\n",
    "def forward(x):\n",
    "    return w*x+b            \n",
    "\n",
    "def criterion(yhat, y):             \n",
    "    return torch.mean((yhat-y)**2)\n",
    "\n",
    "\n",
    "lr = 0.1    # learning rate : 만일 너무 큰 값을 적용 한다면 / 작은 값을 적용한다면\n",
    "COST = []\n",
    "\n",
    "for epoch in range(15):\n",
    "    Yhat = forward(X)\n",
    "    loss = criterion(Yhat, Y)   # 난수가 포함된 Y가 정답이고, w값이 갱신되면서 구해지는 Yhat 비교\n",
    "    \n",
    "    loss.backward()\n",
    "    \n",
    "    w.data = w.data - lr*w.grad.data\n",
    "    w.grad.data.zero_()\n",
    "    \n",
    "    b.data = b.data - lr*b.grad.data\n",
    "    b.grad.data.zero_()\n",
    "    \n",
    "    COST.append(loss.item()) \n",
    "    \n",
    "plt.plot(range(15), COST)\n",
    "plt.show()"
   ]
  },
  {
   "cell_type": "code",
   "execution_count": 70,
   "id": "3dd257a1",
   "metadata": {},
   "outputs": [
    {
     "name": "stdout",
     "output_type": "stream",
     "text": [
      "tensor(-2.9976, requires_grad=True) tensor(-5.9035, requires_grad=True)\n"
     ]
    }
   ],
   "source": [
    "print(w, b)"
   ]
  },
  {
   "cell_type": "code",
   "execution_count": null,
   "id": "ee98449c",
   "metadata": {},
   "outputs": [],
   "source": []
  }
 ],
 "metadata": {
  "kernelspec": {
   "display_name": "[base]",
   "language": "python",
   "name": "base"
  },
  "language_info": {
   "codemirror_mode": {
    "name": "ipython",
    "version": 3
   },
   "file_extension": ".py",
   "mimetype": "text/x-python",
   "name": "python",
   "nbconvert_exporter": "python",
   "pygments_lexer": "ipython3",
   "version": "3.9.15"
  }
 },
 "nbformat": 4,
 "nbformat_minor": 5
}
