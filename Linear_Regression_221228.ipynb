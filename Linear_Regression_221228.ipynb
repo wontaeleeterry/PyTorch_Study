{
 "cells": [
  {
   "cell_type": "code",
   "execution_count": null,
   "id": "3ee93808",
   "metadata": {},
   "outputs": [],
   "source": [
    "# Simple Linear regression\n",
    "# Prediction usiong PyTorch\n",
    "# : Class Linear\n",
    "# : Build Custom Modules using nn.module"
   ]
  },
  {
   "cell_type": "markdown",
   "id": "d61c4e24",
   "metadata": {},
   "source": [
    "# the Method Forward"
   ]
  },
  {
   "cell_type": "code",
   "execution_count": 2,
   "id": "d605a3c2",
   "metadata": {},
   "outputs": [],
   "source": [
    "import torch\n",
    "\n",
    "w=torch.tensor(2., requires_grad=True)\n",
    "b=torch.tensor(-1., requires_grad=True)\n",
    "\n",
    "def forward(x):\n",
    "    y=b+w*x\n",
    "    return y\n",
    "\n",
    "x=torch.tensor([1.])\n",
    "\n",
    "yhat=forward(x)"
   ]
  },
  {
   "cell_type": "code",
   "execution_count": 3,
   "id": "54edc11f",
   "metadata": {},
   "outputs": [
    {
     "data": {
      "text/plain": [
       "tensor([1.], grad_fn=<AddBackward0>)"
      ]
     },
     "execution_count": 3,
     "metadata": {},
     "output_type": "execute_result"
    }
   ],
   "source": [
    "yhat"
   ]
  },
  {
   "cell_type": "code",
   "execution_count": 14,
   "id": "2a7fba4c",
   "metadata": {},
   "outputs": [
    {
     "data": {
      "text/plain": [
       "tensor([[1.],\n",
       "        [3.]], grad_fn=<AddBackward0>)"
      ]
     },
     "execution_count": 14,
     "metadata": {},
     "output_type": "execute_result"
    }
   ],
   "source": [
    "# 2개 동시 입력\n",
    "\n",
    "x=torch.tensor([[1.], [2.]])  # 대괄호 : 리스트안에 리스트 주의\n",
    "\n",
    "yhat=forward(x)\n",
    "yhat"
   ]
  },
  {
   "cell_type": "code",
   "execution_count": 23,
   "id": "6c99087c",
   "metadata": {},
   "outputs": [
    {
     "name": "stdout",
     "output_type": "stream",
     "text": [
      "[Parameter containing:\n",
      "tensor([[0.5153]], requires_grad=True), Parameter containing:\n",
      "tensor([-0.4414], requires_grad=True)]\n"
     ]
    },
    {
     "data": {
      "text/plain": [
       "tensor([-0.4414], grad_fn=<AddBackward0>)"
      ]
     },
     "execution_count": 23,
     "metadata": {},
     "output_type": "execute_result"
    }
   ],
   "source": [
    "# Linear 컨스트럭터\n",
    "\n",
    "from torch.nn import Linear\n",
    "\n",
    "torch.manual_seed(1)  # 항상 결과를 똑같게 만들기 위하여\n",
    "\n",
    "model=Linear(in_features=1, out_features=1)   # 한 개의 입력과 한 개의 출력을 갖는 임의의 선형 모델\n",
    "print(list(model.parameters()))   # 랜덤으로 구성된 모델의 파라미터를 출력하여 확인\n",
    "\n",
    "x=torch.tensor([0.0])\n",
    "yhat=model(x)\n",
    "yhat"
   ]
  },
  {
   "cell_type": "code",
   "execution_count": 24,
   "id": "4c8d8038",
   "metadata": {},
   "outputs": [
    {
     "data": {
      "text/plain": [
       "tensor([[0.0739],\n",
       "        [0.5891]], grad_fn=<AddmmBackward0>)"
      ]
     },
     "execution_count": 24,
     "metadata": {},
     "output_type": "execute_result"
    }
   ],
   "source": [
    "# 여러개의 여러개의 단일 입력을 동시에 가능\n",
    "\n",
    "x=torch.tensor([[1.0], [2.0]])\n",
    "yhat=model(x)\n",
    "yhat"
   ]
  },
  {
   "cell_type": "markdown",
   "id": "4f99f95c",
   "metadata": {},
   "source": [
    "# Custom Module"
   ]
  },
  {
   "cell_type": "code",
   "execution_count": 25,
   "id": "2b89804d",
   "metadata": {},
   "outputs": [],
   "source": [
    "import torch.nn as nn\n",
    "\n",
    "class LR(nn.Module):\n",
    "    def __init__(self, in_size, output_size):\n",
    "        super(LR, self).__init__()\n",
    "        self.linear=nn.Linear(in_size, output_size)\n",
    "        \n",
    "    def forward(self, x):\n",
    "        out=self.linear(x)\n",
    "        return out"
   ]
  },
  {
   "cell_type": "code",
   "execution_count": 28,
   "id": "be1bc32d",
   "metadata": {},
   "outputs": [
    {
     "name": "stdout",
     "output_type": "stream",
     "text": [
      "[Parameter containing:\n",
      "tensor([[0.5153]], requires_grad=True), Parameter containing:\n",
      "tensor([-0.4414], requires_grad=True)]\n"
     ]
    }
   ],
   "source": [
    "model=LR(1,1)   # size of model\n",
    "\n",
    "model.state_dict()['linear.weight'].data[0]=torch.tensor([0.5153])\n",
    "model.state_dict()['linear.bias'].data[0]=torch.tensor([-0.4414])\n",
    "\n",
    "print(list(model.parameters()))"
   ]
  },
  {
   "cell_type": "code",
   "execution_count": 30,
   "id": "198273e8",
   "metadata": {},
   "outputs": [
    {
     "data": {
      "text/plain": [
       "tensor([0.0739], grad_fn=<AddBackward0>)"
      ]
     },
     "execution_count": 30,
     "metadata": {},
     "output_type": "execute_result"
    }
   ],
   "source": [
    "x=torch.tensor([1.0])\n",
    "yhat=model(x)\n",
    "yhat"
   ]
  },
  {
   "cell_type": "code",
   "execution_count": 31,
   "id": "725cd3bb",
   "metadata": {},
   "outputs": [
    {
     "data": {
      "text/plain": [
       "tensor([[0.0739],\n",
       "        [0.5892]], grad_fn=<AddmmBackward0>)"
      ]
     },
     "execution_count": 31,
     "metadata": {},
     "output_type": "execute_result"
    }
   ],
   "source": [
    "# multiful prediction도 가능\n",
    "\n",
    "x=torch.tensor([[1.0],[2.0]])\n",
    "yhat=model(x)\n",
    "yhat"
   ]
  },
  {
   "cell_type": "code",
   "execution_count": 32,
   "id": "42b657a2",
   "metadata": {},
   "outputs": [
    {
     "name": "stdout",
     "output_type": "stream",
     "text": [
      "OrderedDict([('linear.weight', tensor([[0.5153]])), ('linear.bias', tensor([-0.4414]))])\n",
      "odict_keys(['linear.weight', 'linear.bias'])\n",
      "odict_values([tensor([[0.5153]]), tensor([-0.4414])])\n"
     ]
    }
   ],
   "source": [
    "print(model.state_dict())\n",
    "print(model.state_dict().keys())\n",
    "print(model.state_dict().values())"
   ]
  },
  {
   "cell_type": "code",
   "execution_count": 33,
   "id": "095601de",
   "metadata": {},
   "outputs": [
    {
     "name": "stdout",
     "output_type": "stream",
     "text": [
      "<generator object Module.parameters at 0x14aaba350>\n"
     ]
    }
   ],
   "source": [
    "print(model.parameters())"
   ]
  },
  {
   "cell_type": "code",
   "execution_count": null,
   "id": "ec6802b3",
   "metadata": {},
   "outputs": [],
   "source": []
  }
 ],
 "metadata": {
  "kernelspec": {
   "display_name": "[base]",
   "language": "python",
   "name": "base"
  },
  "language_info": {
   "codemirror_mode": {
    "name": "ipython",
    "version": 3
   },
   "file_extension": ".py",
   "mimetype": "text/x-python",
   "name": "python",
   "nbconvert_exporter": "python",
   "pygments_lexer": "ipython3",
   "version": "3.9.15"
  }
 },
 "nbformat": 4,
 "nbformat_minor": 5
}
